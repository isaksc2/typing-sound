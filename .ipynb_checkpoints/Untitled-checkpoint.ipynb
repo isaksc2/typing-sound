{
 "cells": [
  {
   "cell_type": "code",
   "execution_count": 1,
   "id": "alive-office",
   "metadata": {},
   "outputs": [
    {
     "name": "stderr",
     "output_type": "stream",
     "text": [
      "<ipython-input-1-fed55b85ac38>:23: RuntimeWarning: overflow encountered in exp\n",
      "  return np.exp(x2) + d\n"
     ]
    },
    {
     "data": {
      "image/png": "[encoded data removed]",
      "text/plain": [
       "<Figure size 432x288 with 1 Axes>"
      ]
     },
     "metadata": {
      "needs_background": "light"
     },
     "output_type": "display_data"
    },
    {
     "name": "stdout",
     "output_type": "stream",
     "text": [
      "parameters for function:\n",
      "[ 0.06555043  4.62041325 -1.56777229]\n"
     ]
    }
   ],
   "source": [
    "import matplotlib.pyplot as plt\n",
    "import numpy as np\n",
    "from scipy.optimize import curve_fit\n",
    "\n",
    "# Data for plotting\n",
    "x = np.array([-62.25, -44.62 ,-33.23, -23.65, -17.82, -13.62, -10.33, -7.62, -5.33, -3.34, -1.58, 0])\n",
    "y = np.array([0, 4, 10, 20 ,30, 40, 50, 60, 70, 80 ,90 , 100])\n",
    "             \n",
    "\n",
    "fig, ax = plt.subplots()\n",
    "ax.plot(x, y)\n",
    "\n",
    "ax.grid()\n",
    "\n",
    "plt.xlim([-70, 1])\n",
    "plt.ylim([-5, 110])\n",
    "\n",
    "\n",
    "# function to fit\n",
    "def f(x,a,b,d):\n",
    "    x1 = x*a\n",
    "    x2 = x1+b\n",
    "    return np.exp(x2) + d\n",
    "\n",
    "popt, pcov = curve_fit(f, x, y)\n",
    "\n",
    "# just for viewing fitness better\n",
    "offset = 2\n",
    "\n",
    "y2 = offset + f(x, popt[0], popt[1], popt[2])\n",
    "ax.plot(x, y2)\n",
    "plt.show()\n",
    "\n",
    "print (\"parameters for function:\")\n",
    "print(popt)"
   ]
  },
  {
   "cell_type": "code",
   "execution_count": null,
   "id": "korean-bronze",
   "metadata": {},
   "outputs": [],
   "source": []
  }
 ],
 "metadata": {
  "kernelspec": {
   "display_name": "Python 3",
   "language": "python",
   "name": "python3"
  },
  "language_info": {
   "codemirror_mode": {
    "name": "ipython",
    "version": 3
   },
   "file_extension": ".py",
   "mimetype": "text/x-python",
   "name": "python",
   "nbconvert_exporter": "python",
   "pygments_lexer": "ipython3",
   "version": "3.8.5"
  }
 },
 "nbformat": 4,
 "nbformat_minor": 5
}
